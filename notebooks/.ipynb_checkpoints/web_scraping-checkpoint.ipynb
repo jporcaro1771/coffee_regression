{
 "cells": [
  {
   "cell_type": "code",
   "execution_count": 81,
   "metadata": {
    "ExecuteTime": {
     "end_time": "2019-07-21T19:47:39.496685Z",
     "start_time": "2019-07-21T19:47:38.932368Z"
    }
   },
   "outputs": [],
   "source": [
    "import numpy as np\n",
    "import pandas as pd\n",
    "from urllib.request import urlopen as uReq\n",
    "from bs4 import BeautifulSoup as soup"
   ]
  },
  {
   "cell_type": "code",
   "execution_count": 7,
   "metadata": {
    "ExecuteTime": {
     "end_time": "2019-07-21T18:32:31.189987Z",
     "start_time": "2019-07-21T18:32:30.883802Z"
    }
   },
   "outputs": [],
   "source": [
    "my_url = 'https://en.wikipedia.org/wiki/International_Coffee_Agreement'\n",
    "uClient = uReq(my_url)\n",
    "page_html = uClient.read()\n",
    "uClient.close()\n",
    "page_soup = soup(page_html, \"html.parser\")"
   ]
  },
  {
   "cell_type": "code",
   "execution_count": 27,
   "metadata": {
    "ExecuteTime": {
     "end_time": "2019-07-21T18:58:06.048398Z",
     "start_time": "2019-07-21T18:58:06.037842Z"
    }
   },
   "outputs": [],
   "source": [
    "tables = page_soup.findAll(\"table\", {\"class\":\"multicol\"})"
   ]
  },
  {
   "cell_type": "code",
   "execution_count": 20,
   "metadata": {
    "ExecuteTime": {
     "end_time": "2019-07-21T18:56:32.443486Z",
     "start_time": "2019-07-21T18:56:32.439080Z"
    }
   },
   "outputs": [
    {
     "data": {
      "text/plain": [
       "3"
      ]
     },
     "execution_count": 20,
     "metadata": {},
     "output_type": "execute_result"
    }
   ],
   "source": [
    "len(tables)"
   ]
  },
  {
   "cell_type": "code",
   "execution_count": 28,
   "metadata": {
    "ExecuteTime": {
     "end_time": "2019-07-21T18:58:25.419796Z",
     "start_time": "2019-07-21T18:58:25.388567Z"
    }
   },
   "outputs": [
    {
     "data": {
      "text/plain": [
       "<table class=\"multicol\" role=\"presentation\" style=\"border-collapse: collapse; padding: 0; border: 0; background:transparent; width:100%;\"><tbody><tr>\n",
       "<td style=\"text-align: left; vertical-align: top;\">\n",
       "<dl><dt>Exporting members (42)</dt></dl>\n",
       "<div>\n",
       "<table class=\"multicol\" role=\"presentation\" style=\"border-collapse: collapse; padding: 0; border: 0; background:transparent; width:100%;\"><tbody><tr>\n",
       "<td style=\"text-align: left; vertical-align: top;\">\n",
       "<ul><li>Angola</li>\n",
       "<li>Benin</li>\n",
       "<li>Bolivia<sup class=\"reference\" id=\"cite_ref-Provisional_19-0\"><a href=\"#cite_note-Provisional-19\">[note 1]</a></sup></li>\n",
       "<li>Brazil</li>\n",
       "<li>Burundi</li>\n",
       "<li>Cameroon</li>\n",
       "<li>Central African Republic</li>\n",
       "<li>Colombia<sup class=\"reference\" id=\"cite_ref-Provisional_19-1\"><a href=\"#cite_note-Provisional-19\">[note 1]</a></sup></li>\n",
       "<li>Costa Rica</li>\n",
       "<li>Ivory Coast</li>\n",
       "<li>Cuba</li>\n",
       "<li>Ecuador</li>\n",
       "<li>El Salvador</li>\n",
       "<li>Ethiopia</li>\n",
       "<li>Gabon</li>\n",
       "<li>Ghana</li>\n",
       "<li>Guatemala</li>\n",
       "<li>Guinea</li>\n",
       "<li>Haiti</li>\n",
       "<li>Honduras</li>\n",
       "<li>India</li>\n",
       "<li>Indonesia</li></ul>\n",
       "<p>\n",
       "</p>\n",
       "</td>\n",
       "<td style=\"text-align: left; vertical-align: top;\">\n",
       "<ul><li>Jamaica</li>\n",
       "<li>Kenya</li>\n",
       "<li>Liberia</li>\n",
       "<li>Malawi</li>\n",
       "<li>Mexico</li>\n",
       "<li>Nicaragua</li>\n",
       "<li>Panama</li>\n",
       "<li>Papua New Guinea<sup class=\"reference\" id=\"cite_ref-Provisional_19-2\"><a href=\"#cite_note-Provisional-19\">[note 1]</a></sup></li>\n",
       "<li>Paraguay</li>\n",
       "<li>Philippines</li>\n",
       "<li>Rwanda</li>\n",
       "<li>Sierra Leone</li>\n",
       "<li>Tanzania</li>\n",
       "<li>Thailand</li>\n",
       "<li>East Timor</li>\n",
       "<li>Togo</li>\n",
       "<li>Uganda</li>\n",
       "<li>Vietnam</li>\n",
       "<li>Yemen</li>\n",
       "<li>Zambia</li>\n",
       "<li>Zimbabwe</li></ul>\n",
       "<p>\n",
       "</p>\n",
       "</td></tr></tbody></table></div>\n",
       "<p>\n",
       "</p>\n",
       "</td>\n",
       "<td style=\"text-align: left; vertical-align: top;\">\n",
       "<dl><dt>Importing members (7)</dt></dl>\n",
       "<div>\n",
       "<table class=\"multicol\" role=\"presentation\" style=\"border-collapse: collapse; padding: 0; border: 0; background:transparent; width:100%;\"><tbody><tr>\n",
       "<td style=\"text-align: left; vertical-align: top;\">\n",
       "<ul><li>Japan</li>\n",
       "<li>Norway</li>\n",
       "<li>Russian Federation</li>\n",
       "<li>Switzerland</li>\n",
       "<li>Tunisia</li>\n",
       "<li>United States of America</li>\n",
       "<li>European Union:\n",
       "<ul><li>Austria</li>\n",
       "<li>Belgium</li>\n",
       "<li>Bulgaria</li>\n",
       "<li>Croatia</li>\n",
       "<li>Cyprus</li>\n",
       "<li>Czech Republic</li>\n",
       "<li>Denmark</li>\n",
       "<li>Estonia</li>\n",
       "<li>Finland</li>\n",
       "<li>France</li>\n",
       "<li>Germany</li>\n",
       "<li>Greece</li></ul></li></ul>\n",
       "<p>\n",
       "</p>\n",
       "</td>\n",
       "<td style=\"text-align: left; vertical-align: top;\">\n",
       "<ul><li>Hungary</li>\n",
       "<li>Ireland</li>\n",
       "<li>Italy</li>\n",
       "<li>Latvia</li>\n",
       "<li>Lithuania</li>\n",
       "<li>Luxembourg</li>\n",
       "<li>Malta</li>\n",
       "<li>Netherlands</li>\n",
       "<li>Poland</li>\n",
       "<li>Portugal</li>\n",
       "<li>Romania</li>\n",
       "<li>Slovakia</li>\n",
       "<li>Slovenia</li>\n",
       "<li>Spain</li>\n",
       "<li>Sweden</li>\n",
       "<li>United Kingdom</li></ul>\n",
       "<p>\n",
       "</p>\n",
       "</td></tr></tbody></table></div>\n",
       "<p>\n",
       "</p>\n",
       "</td></tr></tbody></table>"
      ]
     },
     "execution_count": 28,
     "metadata": {},
     "output_type": "execute_result"
    }
   ],
   "source": [
    "table = tables[0]\n",
    "table"
   ]
  },
  {
   "cell_type": "code",
   "execution_count": 46,
   "metadata": {
    "ExecuteTime": {
     "end_time": "2019-07-21T19:06:28.823129Z",
     "start_time": "2019-07-21T19:06:28.818781Z"
    }
   },
   "outputs": [
    {
     "data": {
      "text/plain": [
       "bs4.element.Tag"
      ]
     },
     "execution_count": 46,
     "metadata": {},
     "output_type": "execute_result"
    }
   ],
   "source": [
    "for t in table:\n",
    "    countries = table.ul"
   ]
  },
  {
   "cell_type": "code",
   "execution_count": 48,
   "metadata": {
    "ExecuteTime": {
     "end_time": "2019-07-21T19:06:48.178477Z",
     "start_time": "2019-07-21T19:06:48.174536Z"
    }
   },
   "outputs": [
    {
     "data": {
      "text/plain": [
       "43"
      ]
     },
     "execution_count": 48,
     "metadata": {},
     "output_type": "execute_result"
    }
   ],
   "source": [
    "len(countries)"
   ]
  },
  {
   "cell_type": "code",
   "execution_count": 73,
   "metadata": {
    "ExecuteTime": {
     "end_time": "2019-07-21T19:36:45.853765Z",
     "start_time": "2019-07-21T19:36:45.838546Z"
    }
   },
   "outputs": [
    {
     "data": {
      "text/plain": [
       "'Angola, Benin, Boviasup, Brazil, Bundi, Cameroon, Central, African, Repubc, Colombiasup, Costa, Rica, , Cuba, Ecuador, El, Salvador, Ethiopia, Gabon, Ghana, Guatemala, Guinea, Haiti, Hondas, India, Indonesia'"
      ]
     },
     "execution_count": 73,
     "metadata": {},
     "output_type": "execute_result"
    }
   ],
   "source": [
    "str_countries = str(countries)\n",
    "\n",
    "str_countries = str_countries.replace(\"li\", \"\")\n",
    "str_countries = str_countries.replace(\">\", \" \")\n",
    "str_countries = str_countries.replace(\"<\", \"\")\n",
    "str_countries = str_countries.replace(\"\\n\", \"\")\n",
    "str_countries = str_countries.replace(\"/\", \"\")\n",
    "str_countries = str_countries.replace(\"ur\", \"\")\n",
    "str_countries = str_countries.replace(\"ul\", \"\")\n",
    "str_countries = str_countries.replace(\"href\", \"\")\n",
    "str_countries = str_countries.replace(\"Ivory Coast\", \"\")\n",
    "str_countries = str_countries.replace(\"class=\\\"reference\\\" id=\\\"cite_ref-Provisional_19-0\\\" a =\\\"#cite_note-Provisional-19\\\" [note 1]a sup  \", \"\")\n",
    "str_countries = str_countries.replace(\"class=\\\"reference\\\" id=\\\"cite_ref-Provisional_19-1\\\" a =\\\"#cite_note-Provisional-19\\\" [note 1]a sup  \", \"\")\n",
    "str_countries = str_countries.replace(\"  \", \" \")\n",
    "str_countries = str_countries[1:-1]\n",
    "str_countries = str_countries.replace(\" \", \", \")\n",
    "\n",
    "\n",
    "str_countries"
   ]
  },
  {
   "cell_type": "code",
   "execution_count": 77,
   "metadata": {
    "ExecuteTime": {
     "end_time": "2019-07-21T19:37:16.362817Z",
     "start_time": "2019-07-21T19:37:16.360393Z"
    }
   },
   "outputs": [],
   "source": [
    "countries = list(str_countries)"
   ]
  },
  {
   "cell_type": "code",
   "execution_count": 80,
   "metadata": {
    "ExecuteTime": {
     "end_time": "2019-07-21T19:47:15.042909Z",
     "start_time": "2019-07-21T19:47:15.038598Z"
    }
   },
   "outputs": [
    {
     "data": {
      "text/plain": [
       "['Angola',\n",
       " ' Benin',\n",
       " ' Boviasup',\n",
       " ' Brazil',\n",
       " ' Bundi',\n",
       " ' Cameroon',\n",
       " ' Central',\n",
       " ' African',\n",
       " ' Repubc',\n",
       " ' Colombiasup',\n",
       " ' Costa',\n",
       " ' Rica',\n",
       " ' ',\n",
       " ' Cuba',\n",
       " ' Ecuador',\n",
       " ' El',\n",
       " ' Salvador',\n",
       " ' Ethiopia',\n",
       " ' Gabon',\n",
       " ' Ghana',\n",
       " ' Guatemala',\n",
       " ' Guinea',\n",
       " ' Haiti',\n",
       " ' Hondas',\n",
       " ' India',\n",
       " ' Indonesia']"
      ]
     },
     "execution_count": 80,
     "metadata": {},
     "output_type": "execute_result"
    }
   ],
   "source": [
    "countries = str_countries.split(\",\")\n",
    "countries"
   ]
  },
  {
   "cell_type": "code",
   "execution_count": 91,
   "metadata": {
    "ExecuteTime": {
     "end_time": "2019-07-21T19:49:01.900107Z",
     "start_time": "2019-07-21T19:49:01.897434Z"
    }
   },
   "outputs": [],
   "source": [
    "countries = np.array(countries)"
   ]
  },
  {
   "cell_type": "code",
   "execution_count": 92,
   "metadata": {
    "ExecuteTime": {
     "end_time": "2019-07-21T19:49:02.172842Z",
     "start_time": "2019-07-21T19:49:02.169447Z"
    }
   },
   "outputs": [
    {
     "data": {
      "text/plain": [
       "array([['Angola', ' Benin', ' Boviasup', ' Brazil', ' Bundi',\n",
       "        ' Cameroon', ' Central', ' African', ' Repubc', ' Colombiasup',\n",
       "        ' Costa', ' Rica', ' ', ' Cuba', ' Ecuador', ' El', ' Salvador',\n",
       "        ' Ethiopia', ' Gabon', ' Ghana', ' Guatemala', ' Guinea',\n",
       "        ' Haiti', ' Hondas', ' India', ' Indonesia']], dtype='<U12')"
      ]
     },
     "execution_count": 92,
     "metadata": {},
     "output_type": "execute_result"
    }
   ],
   "source": [
    "countries"
   ]
  },
  {
   "cell_type": "code",
   "execution_count": 93,
   "metadata": {
    "ExecuteTime": {
     "end_time": "2019-07-21T19:49:03.161102Z",
     "start_time": "2019-07-21T19:49:03.152719Z"
    },
    "collapsed": true
   },
   "outputs": [
    {
     "ename": "Exception",
     "evalue": "Data must be 1-dimensional",
     "output_type": "error",
     "traceback": [
      "\u001b[0;31m---------------------------------------------------------------------------\u001b[0m",
      "\u001b[0;31mException\u001b[0m                                 Traceback (most recent call last)",
      "\u001b[0;32m<ipython-input-93-6e955cf7379f>\u001b[0m in \u001b[0;36m<module>\u001b[0;34m()\u001b[0m\n\u001b[0;32m----> 1\u001b[0;31m \u001b[0mcountries_df\u001b[0m \u001b[0;34m=\u001b[0m \u001b[0mpd\u001b[0m\u001b[0;34m.\u001b[0m\u001b[0mSeries\u001b[0m\u001b[0;34m(\u001b[0m\u001b[0mcountries\u001b[0m\u001b[0;34m)\u001b[0m\u001b[0;34m\u001b[0m\u001b[0;34m\u001b[0m\u001b[0m\n\u001b[0m\u001b[1;32m      2\u001b[0m \u001b[0mcountries_df\u001b[0m\u001b[0;34m\u001b[0m\u001b[0;34m\u001b[0m\u001b[0m\n",
      "\u001b[0;32m/Users/joelporcaro/anaconda3/envs/metis/lib/python3.6/site-packages/pandas/core/series.py\u001b[0m in \u001b[0;36m__init__\u001b[0;34m(self, data, index, dtype, name, copy, fastpath)\u001b[0m\n\u001b[1;32m    260\u001b[0m             \u001b[0;32melse\u001b[0m\u001b[0;34m:\u001b[0m\u001b[0;34m\u001b[0m\u001b[0;34m\u001b[0m\u001b[0m\n\u001b[1;32m    261\u001b[0m                 data = sanitize_array(data, index, dtype, copy,\n\u001b[0;32m--> 262\u001b[0;31m                                       raise_cast_failure=True)\n\u001b[0m\u001b[1;32m    263\u001b[0m \u001b[0;34m\u001b[0m\u001b[0m\n\u001b[1;32m    264\u001b[0m                 \u001b[0mdata\u001b[0m \u001b[0;34m=\u001b[0m \u001b[0mSingleBlockManager\u001b[0m\u001b[0;34m(\u001b[0m\u001b[0mdata\u001b[0m\u001b[0;34m,\u001b[0m \u001b[0mindex\u001b[0m\u001b[0;34m,\u001b[0m \u001b[0mfastpath\u001b[0m\u001b[0;34m=\u001b[0m\u001b[0;32mTrue\u001b[0m\u001b[0;34m)\u001b[0m\u001b[0;34m\u001b[0m\u001b[0;34m\u001b[0m\u001b[0m\n",
      "\u001b[0;32m/Users/joelporcaro/anaconda3/envs/metis/lib/python3.6/site-packages/pandas/core/internals/construction.py\u001b[0m in \u001b[0;36msanitize_array\u001b[0;34m(data, index, dtype, copy, raise_cast_failure)\u001b[0m\n\u001b[1;32m    656\u001b[0m     \u001b[0;32melif\u001b[0m \u001b[0msubarr\u001b[0m\u001b[0;34m.\u001b[0m\u001b[0mndim\u001b[0m \u001b[0;34m>\u001b[0m \u001b[0;36m1\u001b[0m\u001b[0;34m:\u001b[0m\u001b[0;34m\u001b[0m\u001b[0;34m\u001b[0m\u001b[0m\n\u001b[1;32m    657\u001b[0m         \u001b[0;32mif\u001b[0m \u001b[0misinstance\u001b[0m\u001b[0;34m(\u001b[0m\u001b[0mdata\u001b[0m\u001b[0;34m,\u001b[0m \u001b[0mnp\u001b[0m\u001b[0;34m.\u001b[0m\u001b[0mndarray\u001b[0m\u001b[0;34m)\u001b[0m\u001b[0;34m:\u001b[0m\u001b[0;34m\u001b[0m\u001b[0;34m\u001b[0m\u001b[0m\n\u001b[0;32m--> 658\u001b[0;31m             \u001b[0;32mraise\u001b[0m \u001b[0mException\u001b[0m\u001b[0;34m(\u001b[0m\u001b[0;34m'Data must be 1-dimensional'\u001b[0m\u001b[0;34m)\u001b[0m\u001b[0;34m\u001b[0m\u001b[0;34m\u001b[0m\u001b[0m\n\u001b[0m\u001b[1;32m    659\u001b[0m         \u001b[0;32melse\u001b[0m\u001b[0;34m:\u001b[0m\u001b[0;34m\u001b[0m\u001b[0;34m\u001b[0m\u001b[0m\n\u001b[1;32m    660\u001b[0m             \u001b[0msubarr\u001b[0m \u001b[0;34m=\u001b[0m \u001b[0mcom\u001b[0m\u001b[0;34m.\u001b[0m\u001b[0masarray_tuplesafe\u001b[0m\u001b[0;34m(\u001b[0m\u001b[0mdata\u001b[0m\u001b[0;34m,\u001b[0m \u001b[0mdtype\u001b[0m\u001b[0;34m=\u001b[0m\u001b[0mdtype\u001b[0m\u001b[0;34m)\u001b[0m\u001b[0;34m\u001b[0m\u001b[0;34m\u001b[0m\u001b[0m\n",
      "\u001b[0;31mException\u001b[0m: Data must be 1-dimensional"
     ]
    }
   ],
   "source": []
  },
  {
   "cell_type": "code",
   "execution_count": null,
   "metadata": {},
   "outputs": [],
   "source": []
  }
 ],
 "metadata": {
  "kernelspec": {
   "display_name": "Python [conda env:metis]",
   "language": "python",
   "name": "conda-env-metis-py"
  },
  "language_info": {
   "codemirror_mode": {
    "name": "ipython",
    "version": 3
   },
   "file_extension": ".py",
   "mimetype": "text/x-python",
   "name": "python",
   "nbconvert_exporter": "python",
   "pygments_lexer": "ipython3",
   "version": "3.6.8"
  },
  "toc": {
   "base_numbering": 1,
   "nav_menu": {},
   "number_sections": true,
   "sideBar": true,
   "skip_h1_title": false,
   "title_cell": "Table of Contents",
   "title_sidebar": "Contents",
   "toc_cell": false,
   "toc_position": {},
   "toc_section_display": true,
   "toc_window_display": false
  },
  "varInspector": {
   "cols": {
    "lenName": 16,
    "lenType": 16,
    "lenVar": 40
   },
   "kernels_config": {
    "python": {
     "delete_cmd_postfix": "",
     "delete_cmd_prefix": "del ",
     "library": "var_list.py",
     "varRefreshCmd": "print(var_dic_list())"
    },
    "r": {
     "delete_cmd_postfix": ") ",
     "delete_cmd_prefix": "rm(",
     "library": "var_list.r",
     "varRefreshCmd": "cat(var_dic_list()) "
    }
   },
   "types_to_exclude": [
    "module",
    "function",
    "builtin_function_or_method",
    "instance",
    "_Feature"
   ],
   "window_display": false
  }
 },
 "nbformat": 4,
 "nbformat_minor": 2
}
